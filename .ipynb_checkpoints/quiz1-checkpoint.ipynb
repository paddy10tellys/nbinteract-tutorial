{
 "cells": [
  {
   "cell_type": "code",
   "execution_count": 1,
   "metadata": {
    "hideCode": false,
    "hidePrompt": false,
    "scrolled": true,
    "tags": [
     "interactive",
     "hide_input",
     "use_thebelab_button",
     "thebelab-init",
     "use_binder_button"
    ]
   },
   "outputs": [
    {
     "data": {
      "application/vnd.jupyter.widget-view+json": {
       "model_id": "d101dde5714f4603a696f751286a63c9",
       "version_major": 2,
       "version_minor": 0
      },
      "text/plain": [
       "VBox(children=(Output(), RadioButtons(options=(('IC', 0), ('RV', 1), ('VC', 2), ('TV', 3)), value=None), Butto…"
      ]
     },
     "metadata": {},
     "output_type": "display_data"
    },
    {
     "data": {
      "application/vnd.jupyter.widget-view+json": {
       "model_id": "683050dc64bc4f93b7cc0b8492f0c33f",
       "version_major": 2,
       "version_minor": 0
      },
      "text/plain": [
       "VBox(children=(Output(), RadioButtons(options=(('IC', 0), ('IRV', 1), ('TLC', 2)), value=None), Button(descrip…"
      ]
     },
     "metadata": {},
     "output_type": "display_data"
    },
    {
     "data": {
      "application/vnd.jupyter.widget-view+json": {
       "model_id": "0ac03fc7677c42568f43ad08d5d442cd",
       "version_major": 2,
       "version_minor": 0
      },
      "text/plain": [
       "VBox(children=(Output(), RadioButtons(options=(('pulmonary artery', 0), ('bronchioles', 1), ('alveoli', 2), ('…"
      ]
     },
     "metadata": {},
     "output_type": "display_data"
    },
    {
     "data": {
      "application/vnd.jupyter.widget-view+json": {
       "model_id": "906f179695df42d8be3a9db9a077ca39",
       "version_major": 2,
       "version_minor": 0
      },
      "text/plain": [
       "VBox(children=(Output(), RadioButtons(options=(('visceral and parietal pleurae', 0), ('mediastinal and parieta…"
      ]
     },
     "metadata": {},
     "output_type": "display_data"
    }
   ],
   "source": [
    "import ipywidgets as widgets  # interactive control objects\n",
    "import sys  # interaction with the python runtime environment\n",
    "from IPython.display import display  # Public API for display tools in IPython (rich representations of objects)\n",
    "from IPython.display import clear_output \n",
    "\n",
    "mcq=[['The amount of gas exhaled after a maximal inpiration followed by a maximal expiration is the:',['IC','RV','VC','TV'],'VC'],\n",
    "['The amount of gas in the lungs after a maximal inspiration is the:',['IC','IRV','TLC'],'TLC'],\n",
    "['Where does gas exchange occur?',['pulmonary artery','bronchioles','alveoli', 'pleura'],'alveoli'],\n",
    "['The pleura that surrounds the lungs consists of two layers, the ________.', ['visceral and parietal pleurae', 'mediastinal and parietal pleurae', 'visceral and mediastinal pleurae', 'none of the above'], 'visceral and parietal pleurae']]\n",
    "\n",
    "n=0\n",
    "\n",
    "def askQuestion(n):\n",
    "    stem=mcq[n][0]\n",
    "    distractors=mcq[n][1] \n",
    "    key=mcq[n][2]\n",
    "\n",
    "    if key not in distractors:\n",
    "        distractors.append(key)\n",
    "\n",
    "    key_index = distractors.index(key)\n",
    "\n",
    "    radio_options = [(words, i) for i, words in enumerate(distractors)]\n",
    "\n",
    "    RB_thingy = widgets.RadioButtons(\n",
    "        options = radio_options,\n",
    "        discription='',\n",
    "        value=None,\n",
    "        disabled = False\n",
    "    )  \n",
    "\n",
    "    stem_out = widgets.Output()\n",
    "    with stem_out:\n",
    "        print(stem)\n",
    "\n",
    "    feedback_out = widgets.Output()\n",
    "\n",
    "    def check_selection(b):\n",
    "        a = int(RB_thingy.value)\n",
    "        if a==key_index:\n",
    "            s = '\\x1b[6;30;42m' + \"Correct.\" + '\\x1b[0m' +\"\\n\" #green color                 \n",
    "        else:\n",
    "            s = '\\x1b[5;30;41m' + \"Try again. \" + '\\x1b[0m' +\"\\n\" #red color               \n",
    "        with feedback_out:\n",
    "            clear_output()  # clear the output of the current cell receiving output\n",
    "            print(s)\n",
    "        return    \n",
    "\n",
    "    check = widgets.Button(description=\"submit\")\n",
    "    check.on_click(check_selection)    \n",
    "   \n",
    "    display(widgets.VBox([stem_out, RB_thingy, check, feedback_out]))\n",
    "\n",
    "while n < len(mcq):\n",
    "    askQuestion(n)\n",
    "    n+=1\n"
   ]
  },
  {
   "cell_type": "code",
   "execution_count": null,
   "metadata": {},
   "outputs": [],
   "source": []
  }
 ],
 "metadata": {
  "celltoolbar": "Tags",
  "hide_code_all_hidden": false,
  "kernelspec": {
   "display_name": "Python 3",
   "language": "python",
   "name": "python3"
  },
  "language_info": {
   "codemirror_mode": {
    "name": "ipython",
    "version": 3
   },
   "file_extension": ".py",
   "mimetype": "text/x-python",
   "name": "python",
   "nbconvert_exporter": "python",
   "pygments_lexer": "ipython3",
   "version": "3.7.6"
  }
 },
 "nbformat": 4,
 "nbformat_minor": 4
}

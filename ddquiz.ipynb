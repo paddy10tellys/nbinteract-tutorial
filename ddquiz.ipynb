{
 "cells": [
  {
   "cell_type": "code",
   "execution_count": 1,
   "metadata": {},
   "outputs": [
    {
     "data": {
      "application/vnd.jupyter.widget-view+json": {
       "model_id": "b5427898414a4c7a9e84345a15111547",
       "version_major": 2,
       "version_minor": 0
      },
      "text/plain": [
       "Label(value='The amount of gas exhaled after a maximal inpiration followed by a maximal expiration is the:')"
      ]
     },
     "metadata": {},
     "output_type": "display_data"
    },
    {
     "data": {
      "application/vnd.jupyter.widget-view+json": {
       "model_id": "2e71ae6880ea4944a793a3714112fde6",
       "version_major": 2,
       "version_minor": 0
      },
      "text/plain": [
       "Dropdown(options=(('choose', ''), ('IC', 'Try again...'), ('RV', 'Try again...'), ('VC', 'Correct!'), ('TV', '…"
      ]
     },
     "metadata": {},
     "output_type": "display_data"
    },
    {
     "data": {
      "application/vnd.jupyter.widget-view+json": {
       "model_id": "451670f658554965b7284848b137bba6",
       "version_major": 2,
       "version_minor": 0
      },
      "text/plain": [
       "Text(value='', placeholder='choice evaluation...')"
      ]
     },
     "metadata": {},
     "output_type": "display_data"
    },
    {
     "data": {
      "application/vnd.jupyter.widget-view+json": {
       "model_id": "761e5c12420b4a95ba41955d345473a6",
       "version_major": 2,
       "version_minor": 0
      },
      "text/plain": [
       "Output()"
      ]
     },
     "metadata": {},
     "output_type": "display_data"
    }
   ],
   "source": [
    "# https://github.com/jupyter-widgets/ipywidgets/issues/2382 see jetheurer's comment/solution\n",
    "# WORKING ON THIS ONE...\n",
    "\n",
    "from ipywidgets import RadioButtons, Text, Select, Dropdown, Label, jslink, Combobox, Output, HTML, VBox\n",
    "from ipywidgets.widgets.widget import Widget, register, widget_serialization\n",
    "from ipywidgets.widgets.widget_core import CoreWidget\n",
    "from IPython.display import  display, clear_output\n",
    "\n",
    "from traitlets import Unicode, Tuple, Instance, TraitError\n",
    "\n",
    "# mcg is a list of lists \n",
    "# each list consists of a string (the stem) & a list of distractor tuples (distractor string and response string)\n",
    "mcq=[\n",
    "['The amount of gas exhaled after a maximal inpiration followed by a maximal expiration is the:', [('choose',''),('IC', 'Try again...'),('RV','Try again...'),('VC','Correct!'), ('TV', 'Try again...')]],\n",
    "['The amount of gas in the lungs after a maximal inspiration is the:',[('choose',''),('IC','Try again...'),('IRV','Try again...'),('TLC','Correct!')]],\n",
    "['Where does gas exchange occur?',[('choose',''),('pulmonary artery','Try again...'),('bronchioles','Try again...'),('alveoli','Correct!'), ('pleura', 'Try again...')]],\n",
    "['The pleura that surrounds the lungs consists of two layers, the ________.',[('choose',''),('visceral & parietal pleurae','Correct!'),('mediastinal & parietal pleurae','Try again'),('visceral & mediastinal pleurae','Try again'),('none of the above','Try again')]],    \n",
    "['finished',[('no option','')]]    \n",
    "]\n",
    "\n",
    "def text_eventhandler(change):  # argument comes from the observe function, see below\n",
    "        if change['new']=='Correct!':\n",
    "        #if change.new=='Correct!': \n",
    "            global i, stem_out, selection, text\n",
    "            i += 1\n",
    "            stem_out.value=mcq[i][0]\n",
    "            selection.options=mcq[i][1]\n",
    "#         with output:\n",
    "#             clear_output()\n",
    "#             print(i, len(mcq))\n",
    "            if len(mcq)-1==i:\n",
    "                stem_out.value=\"Finished\" \n",
    "                text.placeholder=\"All questions have been answered...\"\n",
    "        return \n",
    "\n",
    "i=0\n",
    "output=Output()\n",
    "Dropdown.value.tag(sync=True)  # whatever value is selected in the Dropdown becomes the value in the Text\n",
    "stem_out = Label(value=mcq[i][0])  # the stem string from mcq\n",
    "selection = Dropdown(options=mcq[i][1]) # response string from the distractor tuple is the new text value\n",
    "text = Text(placeholder='choice evaluation...')\n",
    "jslink((selection, 'value'), (text, 'value'))\n",
    "display(stem_out, selection, text, output)\n",
    "text.observe(text_eventhandler, names='value')  # names is just one trait in this case i.e., value\n",
    "\n",
    "\n",
    "\n",
    "\n",
    " "
   ]
  },
  {
   "cell_type": "code",
   "execution_count": null,
   "metadata": {},
   "outputs": [],
   "source": []
  }
 ],
 "metadata": {
  "kernelspec": {
   "display_name": "Python 3",
   "language": "python",
   "name": "python3"
  },
  "language_info": {
   "codemirror_mode": {
    "name": "ipython",
    "version": 3
   },
   "file_extension": ".py",
   "mimetype": "text/x-python",
   "name": "python",
   "nbconvert_exporter": "python",
   "pygments_lexer": "ipython3",
   "version": "3.7.6"
  }
 },
 "nbformat": 4,
 "nbformat_minor": 2
}

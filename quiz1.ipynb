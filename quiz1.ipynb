{
 "cells": [
  {
   "cell_type": "code",
   "execution_count": null,
   "metadata": {
    "hideCode": true,
    "hidePrompt": true,
    "tags": [
     "use_show_widgets_button",
     "interactive",
     "hide_input"
    ]
   },
   "outputs": [],
   "source": [
    "#HIDDEN\n",
    "import ipywidgets as widgets  # interactive control objects\n",
    "import sys  # interaction with the python runtime environment\n",
    "from IPython.display import display  # Public API for display tools in IPython (rich representations of objects)\n",
    "from IPython.display import clear_output \n",
    "\n",
    "def create_multipleChoice_widget(description, options, correct_answer):\n",
    "    if correct_answer not in options:\n",
    "        options.append(correct_answer)\n",
    "    \n",
    "    correct_answer_index = options.index(correct_answer)\n",
    "    \n",
    "    radio_options = [(words, i) for i, words in enumerate(options)]\n",
    "    alternativ = widgets.RadioButtons(\n",
    "        options = radio_options,\n",
    "        description = '',\n",
    "        disabled = False\n",
    "    )\n",
    "    \n",
    "    description_out = widgets.Output()\n",
    "    with description_out:\n",
    "        print(description)\n",
    "        \n",
    "    feedback_out = widgets.Output()\n",
    "\n",
    "    def check_selection(b):\n",
    "        a = int(alternativ.value)\n",
    "        if a==correct_answer_index:\n",
    "            s = '\\x1b[6;30;42m' + \"Correct.\" + '\\x1b[0m' +\"\\n\" #green color\n",
    "        else:\n",
    "            s = '\\x1b[5;30;41m' + \"Try again. \" + '\\x1b[0m' +\"\\n\" #red color\n",
    "        with feedback_out:\n",
    "            clear_output()  # clear the output of the current cell receiving output\n",
    "            print(s)\n",
    "        return\n",
    "    \n",
    "    check = widgets.Button(description=\"submit\")\n",
    "    check.on_click(check_selection)\n",
    "    \n",
    "    \n",
    "    return widgets.VBox([description_out, alternativ, check, feedback_out])\n",
    "\n",
    "Q1 = create_multipleChoice_widget('The amount of gas exhaled after a maximal inpiration followed by a maximal expiration is the:',['IC','RV','VC','TV'],'VC')\n",
    "Q2 = create_multipleChoice_widget('The amount of gas in the lungs after a maximal inspiration is the:',['IC','IRV','TLC'],'TLC')\n",
    "Q3 = create_multipleChoice_widget('Where does gas exchange occur?',['pulmonary artery','bronchioles','alveoli', 'pleura'],'alveoli')\n",
    "Q4 = create_multipleChoice_widget('The pleura that surrounds the lungs consists of two layers, the ________.', ['visceral and parietal pleurae', 'mediastinal and parietal pleurae', 'visceral and mediastinal pleurae', 'none of the above'], 'visceral and parietal pleurae')\n",
    "\n",
    "display(Q1)\n",
    "display(Q2)\n",
    "display(Q3)\n",
    "display(Q4)\n"
   ]
  }
 ],
 "metadata": {
  "celltoolbar": "Tags",
  "hide_code_all_hidden": true,
  "kernelspec": {
   "display_name": "Python 3",
   "language": "python",
   "name": "python3"
  },
  "language_info": {
   "codemirror_mode": {
    "name": "ipython",
    "version": 3
   },
   "file_extension": ".py",
   "mimetype": "text/x-python",
   "name": "python",
   "nbconvert_exporter": "python",
   "pygments_lexer": "ipython3",
   "version": "3.7.6"
  }
 },
 "nbformat": 4,
 "nbformat_minor": 4
}
